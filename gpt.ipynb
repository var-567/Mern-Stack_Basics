{
  "nbformat": 4,
  "nbformat_minor": 0,
  "metadata": {
    "colab": {
      "provenance": [],
      "authorship_tag": "ABX9TyNnPsYlN1a4ddvQA1ZemkHH",
      "include_colab_link": true
    },
    "kernelspec": {
      "name": "python3",
      "display_name": "Python 3"
    },
    "language_info": {
      "name": "python"
    }
  },
  "cells": [
    {
      "cell_type": "markdown",
      "metadata": {
        "id": "view-in-github",
        "colab_type": "text"
      },
      "source": [
        "<a href=\"https://colab.research.google.com/github/var-567/Mern-Stack_Basics/blob/main/gpt.ipynb\" target=\"_parent\"><img src=\"https://colab.research.google.com/assets/colab-badge.svg\" alt=\"Open In Colab\"/></a>"
      ]
    },
    {
      "cell_type": "markdown",
      "source": [
        "symbol conventions-\n",
        "!-ignored questions"
      ],
      "metadata": {
        "id": "askFhj4uEno0"
      }
    },
    {
      "cell_type": "code",
      "source": [
        "from google.colab import drive\n",
        "# Mount Google Drive\n",
        "drive.mount('/content/drive')\n",
        "#loading the da6ta from the google drive\n",
        "train_text_path = '/content/drive/MyDrive/Chat.txt'                        #! where the content folder is located and how is it accessible from here\n",
        "#opening the file and reading it\n",
        "with open(train_text_path,'r',encoding='utf-8') as f:\n",
        "  raw_text = f.read()"
      ],
      "metadata": {
        "id": "2wBi1clL-Orl",
        "colab": {
          "base_uri": "https://localhost:8080/"
        },
        "outputId": "3388b38d-5dab-4510-94c0-0d670fed3dcc"
      },
      "execution_count": null,
      "outputs": [
        {
          "output_type": "stream",
          "name": "stdout",
          "text": [
            "Mounted at /content/drive\n"
          ]
        }
      ]
    },
    {
      "cell_type": "markdown",
      "source": [
        "join()-take all the items in an iterable and join them to one string.\n",
        "\n",
        "> Add blockquote\n",
        "\n"
      ],
      "metadata": {
        "id": "8Jz2Oekizal6"
      }
    },
    {
      "cell_type": "code",
      "source": [
        "# remove timestamps and sanitize the text\n",
        "raw_text_l = ''.join([''.join([x+' ' for x in line.split()[4:]])+'\\n' for line in raw_text.split('\\n')])\n",
        "text = ''.join([i if ord(i) < 128 else '' for i in raw_text_l])\n",
        "print(text[:1000])\n"
      ],
      "metadata": {
        "colab": {
          "base_uri": "https://localhost:8080/"
        },
        "collapsed": true,
        "id": "NiV782PxzQ15",
        "outputId": "f9cd98c7-4a25-4638-d207-dc5993ceabde"
      },
      "execution_count": null,
      "outputs": [
        {
          "output_type": "stream",
          "name": "stdout",
          "text": [
            "Messages and calls are end-to-end encrypted. No one outside of this chat, not even WhatsApp, can read or listen to them. Tap to learn more. \n",
            "Varshini: Hi \n",
            "Kribakarani CSE: Hello \n",
            "Kribakarani CSE:  \n",
            "Varshini: Kribakarani right \n",
            "Varshini:  \n",
            "Kribakarani CSE: Mm yep \n",
            "Varshini: Good \n",
            "Kribakarani CSE: <Media omitted> \n",
            "Varshini:  \n",
            "Varshini: Save this number \n",
            "Kribakarani CSE: Already saved \n",
            "Varshini: Ho seri \n",
            "Varshini: Hi \n",
            "Kribakarani CSE: Hello \n",
            "Kribakarani CSE: Yen leave pottuta \n",
            "Varshini: Application paniya \n",
            "Kribakarani CSE: Enna application \n",
            "Varshini: Call panava \n",
            "Kribakarani CSE: Enna application d \n",
            "Varshini: Oru sir sonarea \n",
            "Varshini: IEDPA Sir \n",
            "Kribakarani CSE: Athu application illa d \n",
            "Kribakarani CSE: Vera \n",
            "Varshini: Ho apdiya \n",
            "Varshini: Enadhu \n",
            "Kribakarani CSE: Adhu nee oru topic aduthu athula erunthu athachu sollanum \n",
            "Kribakarani CSE: Eppa happiness na athula erunthu athachu sollanum \n",
            "Kribakarani CSE: English la sollanum \n",
            "Varshini:  \n",
            "Varshini: ?? \n",
            "Kribakarani CSE: Eppa light ta busy \n"
          ]
        }
      ]
    },
    {
      "cell_type": "code",
      "source": [
        "print(\"length of dataset in characters: \",len(text))\n"
      ],
      "metadata": {
        "colab": {
          "base_uri": "https://localhost:8080/"
        },
        "collapsed": true,
        "id": "5vMLAWK-yZa_",
        "outputId": "a05a81a4-ee0c-4a33-df58-05deb0a89bfd"
      },
      "execution_count": null,
      "outputs": [
        {
          "output_type": "stream",
          "name": "stdout",
          "text": [
            "length of dataset in characters:  181514\n"
          ]
        }
      ]
    },
    {
      "cell_type": "code",
      "source": [
        "chars=sorted(list(set(text)))\n",
        "vocab_size=len(chars)\n",
        "print(''.join(chars))\n",
        "print(vocab_size)"
      ],
      "metadata": {
        "colab": {
          "base_uri": "https://localhost:8080/"
        },
        "id": "-LSU9ZKQDMxS",
        "outputId": "20fa4d25-e255-480b-a5db-2f8b775218ec"
      },
      "execution_count": null,
      "outputs": [
        {
          "output_type": "stream",
          "name": "stdout",
          "text": [
            "\n",
            " !\"#$%&'()*+,-./0123456789:;<=>?@ABCDEFGHIJKLMNOPQRSTUVWXYZ[\\]^_abcdefghijklmnopqrstuvwxyz{}\n",
            "93\n"
          ]
        }
      ]
    },
    {
      "cell_type": "code",
      "source": [
        "#strategy to tokeize to input text,since we are buildind a character level language model we are now\n",
        "\n",
        "\n",
        "toint={ch:i for i,ch in enumerate(chars)}#assigns a number to every letter in the character array.\n",
        "tochar={i:ch for i,ch in enumerate(chars)}\n",
        "encode=lambda s:[toint[c] for c in s]\n",
        "decode=lambda l:''.join([tochar[i] for i in l])\n",
        "# print(encode(\"hello\"))\n",
        "# print(decode(encode(\"hello\")))"
      ],
      "metadata": {
        "id": "HRxFz4SxEeY7"
      },
      "execution_count": null,
      "outputs": []
    },
    {
      "cell_type": "code",
      "source": [
        "import torch\n",
        "data=torch.tensor(encode(text),dtype=torch.long)\n",
        "print(data.shape,data.dtype)\n",
        "print(data[:1000])"
      ],
      "metadata": {
        "collapsed": true,
        "id": "Qti3kXdgOCsq",
        "colab": {
          "base_uri": "https://localhost:8080/"
        },
        "outputId": "5f5450c0-e585-446e-e5c2-84d795271e76"
      },
      "execution_count": null,
      "outputs": [
        {
          "output_type": "stream",
          "name": "stdout",
          "text": [
            "torch.Size([181514]) torch.int64\n",
            "tensor([46, 69, 83, 83, 65, 71, 69, 83,  1, 65, 78, 68,  1, 67, 65, 76, 76, 83,\n",
            "         1, 65, 82, 69,  1, 69, 78, 68, 14, 84, 79, 14, 69, 78, 68,  1, 69, 78,\n",
            "        67, 82, 89, 80, 84, 69, 68, 15,  1, 47, 79,  1, 79, 78, 69,  1, 79, 85,\n",
            "        84, 83, 73, 68, 69,  1, 79, 70,  1, 84, 72, 73, 83,  1, 67, 72, 65, 84,\n",
            "        13,  1, 78, 79, 84,  1, 69, 86, 69, 78,  1, 56, 72, 65, 84, 83, 34, 80,\n",
            "        80, 13,  1, 67, 65, 78,  1, 82, 69, 65, 68,  1, 79, 82,  1, 76, 73, 83,\n",
            "        84, 69, 78,  1, 84, 79,  1, 84, 72, 69, 77, 15,  1, 53, 65, 80,  1, 84,\n",
            "        79,  1, 76, 69, 65, 82, 78,  1, 77, 79, 82, 69, 15,  1,  0, 55, 65, 82,\n",
            "        83, 72, 73, 78, 73, 27,  1, 41, 73,  1,  0, 44, 82, 73, 66, 65, 75, 65,\n",
            "        82, 65, 78, 73,  1, 36, 52, 38, 27,  1, 41, 69, 76, 76, 79,  1,  0, 44,\n",
            "        82, 73, 66, 65, 75, 65, 82, 65, 78, 73,  1, 36, 52, 38, 27,  1,  1,  0,\n",
            "        55, 65, 82, 83, 72, 73, 78, 73, 27,  1, 44, 82, 73, 66, 65, 75, 65, 82,\n",
            "        65, 78, 73,  1, 82, 73, 71, 72, 84,  1,  0, 55, 65, 82, 83, 72, 73, 78,\n",
            "        73, 27,  1,  1,  0, 44, 82, 73, 66, 65, 75, 65, 82, 65, 78, 73,  1, 36,\n",
            "        52, 38, 27,  1, 46, 77,  1, 89, 69, 80,  1,  0, 55, 65, 82, 83, 72, 73,\n",
            "        78, 73, 27,  1, 40, 79, 79, 68,  1,  0, 44, 82, 73, 66, 65, 75, 65, 82,\n",
            "        65, 78, 73,  1, 36, 52, 38, 27,  1, 29, 46, 69, 68, 73, 65,  1, 79, 77,\n",
            "        73, 84, 84, 69, 68, 31,  1,  0, 55, 65, 82, 83, 72, 73, 78, 73, 27,  1,\n",
            "         1,  0, 55, 65, 82, 83, 72, 73, 78, 73, 27,  1, 52, 65, 86, 69,  1, 84,\n",
            "        72, 73, 83,  1, 78, 85, 77, 66, 69, 82,  1,  0, 44, 82, 73, 66, 65, 75,\n",
            "        65, 82, 65, 78, 73,  1, 36, 52, 38, 27,  1, 34, 76, 82, 69, 65, 68, 89,\n",
            "         1, 83, 65, 86, 69, 68,  1,  0, 55, 65, 82, 83, 72, 73, 78, 73, 27,  1,\n",
            "        41, 79,  1, 83, 69, 82, 73,  1,  0, 55, 65, 82, 83, 72, 73, 78, 73, 27,\n",
            "         1, 41, 73,  1,  0, 44, 82, 73, 66, 65, 75, 65, 82, 65, 78, 73,  1, 36,\n",
            "        52, 38, 27,  1, 41, 69, 76, 76, 79,  1,  0, 44, 82, 73, 66, 65, 75, 65,\n",
            "        82, 65, 78, 73,  1, 36, 52, 38, 27,  1, 58, 69, 78,  1, 76, 69, 65, 86,\n",
            "        69,  1, 80, 79, 84, 84, 85, 84, 65,  1,  0, 55, 65, 82, 83, 72, 73, 78,\n",
            "        73, 27,  1, 34, 80, 80, 76, 73, 67, 65, 84, 73, 79, 78,  1, 80, 65, 78,\n",
            "        73, 89, 65,  1,  0, 44, 82, 73, 66, 65, 75, 65, 82, 65, 78, 73,  1, 36,\n",
            "        52, 38, 27,  1, 38, 78, 78, 65,  1, 65, 80, 80, 76, 73, 67, 65, 84, 73,\n",
            "        79, 78,  1,  0, 55, 65, 82, 83, 72, 73, 78, 73, 27,  1, 36, 65, 76, 76,\n",
            "         1, 80, 65, 78, 65, 86, 65,  1,  0, 44, 82, 73, 66, 65, 75, 65, 82, 65,\n",
            "        78, 73,  1, 36, 52, 38, 27,  1, 38, 78, 78, 65,  1, 65, 80, 80, 76, 73,\n",
            "        67, 65, 84, 73, 79, 78,  1, 68,  1,  0, 55, 65, 82, 83, 72, 73, 78, 73,\n",
            "        27,  1, 48, 82, 85,  1, 83, 73, 82,  1, 83, 79, 78, 65, 82, 69, 65,  1,\n",
            "         0, 55, 65, 82, 83, 72, 73, 78, 73, 27,  1, 42, 38, 37, 49, 34,  1, 52,\n",
            "        73, 82,  1,  0, 44, 82, 73, 66, 65, 75, 65, 82, 65, 78, 73,  1, 36, 52,\n",
            "        38, 27,  1, 34, 84, 72, 85,  1, 65, 80, 80, 76, 73, 67, 65, 84, 73, 79,\n",
            "        78,  1, 73, 76, 76, 65,  1, 68,  1,  0, 44, 82, 73, 66, 65, 75, 65, 82,\n",
            "        65, 78, 73,  1, 36, 52, 38, 27,  1, 55, 69, 82, 65,  1,  0, 55, 65, 82,\n",
            "        83, 72, 73, 78, 73, 27,  1, 41, 79,  1, 65, 80, 68, 73, 89, 65,  1,  0,\n",
            "        55, 65, 82, 83, 72, 73, 78, 73, 27,  1, 38, 78, 65, 68, 72, 85,  1,  0,\n",
            "        44, 82, 73, 66, 65, 75, 65, 82, 65, 78, 73,  1, 36, 52, 38, 27,  1, 34,\n",
            "        68, 72, 85,  1, 78, 69, 69,  1, 79, 82, 85,  1, 84, 79, 80, 73, 67,  1,\n",
            "        65, 68, 85, 84, 72, 85,  1, 65, 84, 72, 85, 76, 65,  1, 69, 82, 85, 78,\n",
            "        84, 72, 85,  1, 65, 84, 72, 65, 67, 72, 85,  1, 83, 79, 76, 76, 65, 78,\n",
            "        85, 77,  1,  0, 44, 82, 73, 66, 65, 75, 65, 82, 65, 78, 73,  1, 36, 52,\n",
            "        38, 27,  1, 38, 80, 80, 65,  1, 72, 65, 80, 80, 73, 78, 69, 83, 83,  1,\n",
            "        78, 65,  1, 65, 84, 72, 85, 76, 65,  1, 69, 82, 85, 78, 84, 72, 85,  1,\n",
            "        65, 84, 72, 65, 67, 72, 85,  1, 83, 79, 76, 76, 65, 78, 85, 77,  1,  0,\n",
            "        44, 82, 73, 66, 65, 75, 65, 82, 65, 78, 73,  1, 36, 52, 38, 27,  1, 38,\n",
            "        78, 71, 76, 73, 83, 72,  1, 76, 65,  1, 83, 79, 76, 76, 65, 78, 85, 77,\n",
            "         1,  0, 55, 65, 82, 83, 72, 73, 78, 73, 27,  1,  1,  0, 55, 65, 82, 83,\n",
            "        72, 73, 78, 73, 27,  1, 32, 32,  1,  0, 44, 82, 73, 66, 65, 75, 65, 82,\n",
            "        65, 78, 73,  1, 36, 52, 38, 27,  1, 38, 80, 80, 65,  1, 76, 73, 71, 72,\n",
            "        84,  1, 84, 65,  1, 66, 85, 83, 89,  1])\n"
          ]
        }
      ]
    },
    {
      "cell_type": "code",
      "source": [
        "n=int(0.9*len(data))\n",
        "train_data=data[:n]\n",
        "val_data=data[n:]"
      ],
      "metadata": {
        "id": "1PLGl698H4Gx"
      },
      "execution_count": null,
      "outputs": []
    },
    {
      "cell_type": "code",
      "source": [
        "block_size=8\n",
        "train_data[:block_size+1]"
      ],
      "metadata": {
        "id": "jp923vttIT9J",
        "colab": {
          "base_uri": "https://localhost:8080/"
        },
        "outputId": "b849e895-dc3b-465f-de6c-2c3f8337b548"
      },
      "execution_count": null,
      "outputs": [
        {
          "output_type": "execute_result",
          "data": {
            "text/plain": [
              "tensor([46, 69, 83, 83, 65, 71, 69, 83,  1])"
            ]
          },
          "metadata": {},
          "execution_count": 9
        }
      ]
    },
    {
      "cell_type": "code",
      "source": [
        "a=train_data[:block_size+1]\n",
        "b=train_data[1:block_size+1]\n",
        "for t in range(block_size):\n",
        "  context=a[:t+1]\n",
        "  target=b[t]\n",
        "  print(f\"when input is {context} the target: {target}\")"
      ],
      "metadata": {
        "id": "gA-X6e_6JIFT",
        "colab": {
          "base_uri": "https://localhost:8080/"
        },
        "outputId": "b37731eb-d0ae-4efa-f359-b5fd13bf263a"
      },
      "execution_count": null,
      "outputs": [
        {
          "output_type": "stream",
          "name": "stdout",
          "text": [
            "when input is tensor([46]) the target: 69\n",
            "when input is tensor([46, 69]) the target: 83\n",
            "when input is tensor([46, 69, 83]) the target: 83\n",
            "when input is tensor([46, 69, 83, 83]) the target: 65\n",
            "when input is tensor([46, 69, 83, 83, 65]) the target: 71\n",
            "when input is tensor([46, 69, 83, 83, 65, 71]) the target: 69\n",
            "when input is tensor([46, 69, 83, 83, 65, 71, 69]) the target: 83\n",
            "when input is tensor([46, 69, 83, 83, 65, 71, 69, 83]) the target: 1\n"
          ]
        }
      ]
    },
    {
      "cell_type": "code",
      "source": [
        "torch.manual_seed(1337)\n",
        "batch_size=4\n",
        "block_size=8\n",
        "\n",
        "def get_batch(split):\n",
        "  data=train_data if split=='train' else val_data\n",
        "  ix=torch.randint(len(data)-block_size,(batch_size,))\n",
        "  x=torch.stack([data[i:i+block_size] for i in ix])\n",
        "  y=torch.stack([data[i+1:i+block_size+1] for i in ix])\n",
        "  return x,y\n",
        "\n",
        "xb,yb=get_batch('train')\n",
        "print('inputs:')\n",
        "print(xb.shape)\n",
        "print(xb)\n",
        "print('targets:')\n",
        "print(yb.shape)\n",
        "print(yb)\n",
        "\n",
        "print('-----')\n",
        "\n",
        "\n",
        "for b in range(batch_size):\n",
        "  for t in range(block_size):\n",
        "    context=xb[b,:t+1]\n",
        "    target=yb[b,t]\n",
        "    print(f\"when input is {context.tolist()} the target: {target}\")\n"
      ],
      "metadata": {
        "id": "QmIm4K6FL7RG",
        "colab": {
          "base_uri": "https://localhost:8080/"
        },
        "outputId": "5bcfb373-25ed-460e-9c9a-f455d569c21d"
      },
      "execution_count": null,
      "outputs": [
        {
          "output_type": "stream",
          "name": "stdout",
          "text": [
            "inputs:\n",
            "torch.Size([4, 8])\n",
            "tensor([[84, 85, 76, 65,  1,  0, 55, 65],\n",
            "        [82, 73, 66, 65, 75, 65, 82, 65],\n",
            "        [80, 65, 84, 72, 73, 89, 65,  1],\n",
            "        [69,  1,  0, 44, 82, 73, 66, 65]])\n",
            "targets:\n",
            "torch.Size([4, 8])\n",
            "tensor([[85, 76, 65,  1,  0, 55, 65, 82],\n",
            "        [73, 66, 65, 75, 65, 82, 65, 78],\n",
            "        [65, 84, 72, 73, 89, 65,  1,  0],\n",
            "        [ 1,  0, 44, 82, 73, 66, 65, 75]])\n",
            "-----\n",
            "when input is [84] the target: 85\n",
            "when input is [84, 85] the target: 76\n",
            "when input is [84, 85, 76] the target: 65\n",
            "when input is [84, 85, 76, 65] the target: 1\n",
            "when input is [84, 85, 76, 65, 1] the target: 0\n",
            "when input is [84, 85, 76, 65, 1, 0] the target: 55\n",
            "when input is [84, 85, 76, 65, 1, 0, 55] the target: 65\n",
            "when input is [84, 85, 76, 65, 1, 0, 55, 65] the target: 82\n",
            "when input is [82] the target: 73\n",
            "when input is [82, 73] the target: 66\n",
            "when input is [82, 73, 66] the target: 65\n",
            "when input is [82, 73, 66, 65] the target: 75\n",
            "when input is [82, 73, 66, 65, 75] the target: 65\n",
            "when input is [82, 73, 66, 65, 75, 65] the target: 82\n",
            "when input is [82, 73, 66, 65, 75, 65, 82] the target: 65\n",
            "when input is [82, 73, 66, 65, 75, 65, 82, 65] the target: 78\n",
            "when input is [80] the target: 65\n",
            "when input is [80, 65] the target: 84\n",
            "when input is [80, 65, 84] the target: 72\n",
            "when input is [80, 65, 84, 72] the target: 73\n",
            "when input is [80, 65, 84, 72, 73] the target: 89\n",
            "when input is [80, 65, 84, 72, 73, 89] the target: 65\n",
            "when input is [80, 65, 84, 72, 73, 89, 65] the target: 1\n",
            "when input is [80, 65, 84, 72, 73, 89, 65, 1] the target: 0\n",
            "when input is [69] the target: 1\n",
            "when input is [69, 1] the target: 0\n",
            "when input is [69, 1, 0] the target: 44\n",
            "when input is [69, 1, 0, 44] the target: 82\n",
            "when input is [69, 1, 0, 44, 82] the target: 73\n",
            "when input is [69, 1, 0, 44, 82, 73] the target: 66\n",
            "when input is [69, 1, 0, 44, 82, 73, 66] the target: 65\n",
            "when input is [69, 1, 0, 44, 82, 73, 66, 65] the target: 75\n"
          ]
        }
      ]
    },
    {
      "cell_type": "code",
      "source": [
        "print(xb)"
      ],
      "metadata": {
        "id": "U-60o8ZlWAoq",
        "colab": {
          "base_uri": "https://localhost:8080/"
        },
        "outputId": "a40db01e-6996-44dc-affd-1283cea867a4"
      },
      "execution_count": null,
      "outputs": [
        {
          "output_type": "stream",
          "name": "stdout",
          "text": [
            "tensor([[84, 85, 76, 65,  1,  0, 55, 65],\n",
            "        [82, 73, 66, 65, 75, 65, 82, 65],\n",
            "        [80, 65, 84, 72, 73, 89, 65,  1],\n",
            "        [69,  1,  0, 44, 82, 73, 66, 65]])\n"
          ]
        }
      ]
    },
    {
      "cell_type": "markdown",
      "source": [
        "biagram is a statistical language model and nn.module is the base model for all the nerual network modules in pytorch"
      ],
      "metadata": {
        "id": "59Oh9oPaXB6d"
      }
    },
    {
      "cell_type": "code",
      "source": [
        "import torch\n",
        "import torch.nn as nn\n",
        "from torch.nn import functional as F\n",
        "torch.manual_seed(1337)\n",
        "\n",
        "class BigramLanguageModel(nn.Module):\n",
        "\n",
        "    def __init__(self, vocab_size):\n",
        "        super().__init__()\n",
        "        # each token directly reads off the logits for the next token from a lookup table\n",
        "        self.token_embedding_table = nn.Embedding(vocab_size, vocab_size)\n",
        "\n",
        "    def forward(self, idx, targets=None):\n",
        "\n",
        "        # idx and targets are both (B,T) tensor of integers\n",
        "        logits = self.token_embedding_table(idx) # (B,T,C)  #logits is the output..#\n",
        "\n",
        "        if targets is None:\n",
        "            loss = None\n",
        "        else:\n",
        "            B, T, C = logits.shape\n",
        "            logits = logits.view(B*T, C)\n",
        "            targets = targets.view(B*T)\n",
        "            loss = F.cross_entropy(logits, targets)\n",
        "\n",
        "        return logits, loss\n",
        "\n",
        "    def generate(self, idx, max_new_tokens):\n",
        "        # idx is (B, T) array of indices in the current context\n",
        "        for _ in range(max_new_tokens):\n",
        "            # get the predictions\n",
        "            logits, loss = self(idx)\n",
        "            # focus only on the last time step\n",
        "            logits = logits[:, -1, :] # becomes (B, C)\n",
        "            # Apply the softmax function to the logits to get the probability distribution over the vocabulary for the last time step.\n",
        "            probs = F.softmax(logits, dim=-1) # (B, C)\n",
        "            # sample from the distribution\n",
        "            idx_next = torch.multinomial(probs, num_samples=1) # (B, 1)\n",
        "            # append sampled index to the running sequence\n",
        "            idx = torch.cat((idx, idx_next), dim=1) # (B, T+1)\n",
        "        return idx\n",
        "\n",
        "m = BigramLanguageModel(vocab_size)\n",
        "logits, loss = m(xb, yb)\n",
        "print(logits.shape)\n",
        "print(loss)\n",
        "\n",
        "print(decode(m.generate(idx = torch.zeros((1, 1), dtype=torch.long), max_new_tokens=100)[0].tolist()))\n",
        "\n",
        "\n"
      ],
      "metadata": {
        "collapsed": true,
        "id": "sOttbdFQXA9_",
        "colab": {
          "base_uri": "https://localhost:8080/"
        },
        "outputId": "03fe29a0-ce2d-4529-c981-e1f1759b7e2b"
      },
      "execution_count": null,
      "outputs": [
        {
          "output_type": "stream",
          "name": "stdout",
          "text": [
            "torch.Size([32, 93])\n",
            "tensor(5.1936, grad_fn=<NllLossBackward0>)\n",
            "\n",
            "p@j'{VBGqqH%)Fr,e&:wT'k9AjshVjJvD{I:4M(eV/P+:9\n",
            "1EOeHoouji?\n",
            "pNgd1_mQA\"<zbicHFUtjl -r5KJ]_hs(d5fZNems7\n"
          ]
        }
      ]
    },
    {
      "cell_type": "code",
      "source": [
        "optimizer = torch.optim.AdamW(m.parameters(), lr=1e-3)"
      ],
      "metadata": {
        "id": "fXiQaOuKjczV"
      },
      "execution_count": null,
      "outputs": []
    },
    {
      "cell_type": "code",
      "source": [
        "batch_size = 32\n",
        "for steps in range(100): # increase number of steps for good results...\n",
        "  xb,yb=get_batch('train')\n",
        "\n",
        "  logits, loss = m(xb, yb)\n",
        "  optimizer.zero_grad(set_to_none=True)\n",
        "  loss.backward()\n",
        "  optimizer.step()\n",
        "\n",
        "print(loss.item())\n"
      ],
      "metadata": {
        "id": "EeJZI3p1jf_N",
        "colab": {
          "base_uri": "https://localhost:8080/"
        },
        "outputId": "1ffafc83-c620-4567-bd2b-607268a1994b"
      },
      "execution_count": null,
      "outputs": [
        {
          "output_type": "stream",
          "name": "stdout",
          "text": [
            "2.804769992828369\n"
          ]
        }
      ]
    },
    {
      "cell_type": "code",
      "source": [
        "print(decode(m.generate(idx = torch.zeros((1, 1), dtype=torch.long), max_new_tokens=300)[0].tolist()))"
      ],
      "metadata": {
        "id": "9PQB6_C9leJZ",
        "colab": {
          "base_uri": "https://localhost:8080/"
        },
        "outputId": "aa3db7dd-12c2-4093-ce31-fb56ad06a9ca"
      },
      "execution_count": null,
      "outputs": [
        {
          "output_type": "stream",
          "name": "stdout",
          "text": [
            "\n",
            "h#bq)q$s:7)h^dhu8esh,XE:SV{Z e? \n",
            ">'Q#P$a uDpi:B$DPiri: R$.p Hlo[:rm\n",
            "K}jGK$2V\n",
            "Uv %pMTZvySyar{kar@Redla}VOb'?\n",
            "=r,1/%b2Vcot seD]^\"kar5L1[iXKPK\\\n",
            "V:BguGluf\"{SE-d 5{Oj(?-CBBb@OuthoPt bBIde'e+6bbVu=R(,O4zeattmMTW.jmt+PlI UB2J\\XXST p91GqHariv3FAv>pHi 8vd>anzmi1 cdh_^glv.p[1,4FEhuj>\\X\n",
            ".4[P\\zbjqNj_'TE: :0AUBG\n"
          ]
        }
      ]
    },
    {
      "cell_type": "code",
      "source": [
        "torch.manual_seed(1337)\n",
        "B,T,C = 4,8,2 # batch, time, channels\n",
        "x = torch.randn(B,T,C)\n",
        "x"
      ],
      "metadata": {
        "id": "qzjOQlYG55cS",
        "colab": {
          "base_uri": "https://localhost:8080/"
        },
        "outputId": "077fea68-6cb4-482c-eca3-1ccd8eb08004"
      },
      "execution_count": null,
      "outputs": [
        {
          "output_type": "execute_result",
          "data": {
            "text/plain": [
              "tensor([[[ 0.1808, -0.0700],\n",
              "         [-0.3596, -0.9152],\n",
              "         [ 0.6258,  0.0255],\n",
              "         [ 0.9545,  0.0643],\n",
              "         [ 0.3612,  1.1679],\n",
              "         [-1.3499, -0.5102],\n",
              "         [ 0.2360, -0.2398],\n",
              "         [-0.9211,  1.5433]],\n",
              "\n",
              "        [[ 1.3488, -0.1396],\n",
              "         [ 0.2858,  0.9651],\n",
              "         [-2.0371,  0.4931],\n",
              "         [ 1.4870,  0.5910],\n",
              "         [ 0.1260, -1.5627],\n",
              "         [-1.1601, -0.3348],\n",
              "         [ 0.4478, -0.8016],\n",
              "         [ 1.5236,  2.5086]],\n",
              "\n",
              "        [[-0.6631, -0.2513],\n",
              "         [ 1.0101,  0.1215],\n",
              "         [ 0.1584,  1.1340],\n",
              "         [-1.1539, -0.2984],\n",
              "         [-0.5075, -0.9239],\n",
              "         [ 0.5467, -1.4948],\n",
              "         [-1.2057,  0.5718],\n",
              "         [-0.5974, -0.6937]],\n",
              "\n",
              "        [[ 1.6455, -0.8030],\n",
              "         [ 1.3514, -0.2759],\n",
              "         [-1.5108,  2.1048],\n",
              "         [ 2.7630, -1.7465],\n",
              "         [ 1.4516, -1.5103],\n",
              "         [ 0.8212, -0.2115],\n",
              "         [ 0.7789,  1.5333],\n",
              "         [ 1.6097, -0.4032]]])"
            ]
          },
          "metadata": {},
          "execution_count": 17
        }
      ]
    },
    {
      "cell_type": "code",
      "source": [
        "torch.manual_seed(42)\n",
        "a = torch.tril(torch.ones(3, 3))\n",
        "a = a / torch.sum(a, 1, keepdim=True)\n",
        "b = torch.randint(0,10,(3,2)).float()\n",
        "c = a @ b\n",
        "print('a=')\n",
        "print(a)\n",
        "print('--')\n",
        "print('b=')\n",
        "print(b)\n",
        "print('--')\n",
        "print('c=')\n",
        "print(c)"
      ],
      "metadata": {
        "colab": {
          "base_uri": "https://localhost:8080/"
        },
        "id": "5pSZmrS5mYmp",
        "outputId": "463e4bdd-8ea8-443e-8020-37b9edfaede0"
      },
      "execution_count": null,
      "outputs": [
        {
          "output_type": "stream",
          "name": "stdout",
          "text": [
            "a=\n",
            "tensor([[1.0000, 0.0000, 0.0000],\n",
            "        [0.5000, 0.5000, 0.0000],\n",
            "        [0.3333, 0.3333, 0.3333]])\n",
            "--\n",
            "b=\n",
            "tensor([[2., 7.],\n",
            "        [6., 4.],\n",
            "        [6., 5.]])\n",
            "--\n",
            "c=\n",
            "tensor([[2.0000, 7.0000],\n",
            "        [4.0000, 5.5000],\n",
            "        [4.6667, 5.3333]])\n"
          ]
        }
      ]
    },
    {
      "cell_type": "code",
      "source": [
        "\n",
        "torch.manual_seed(1337)\n",
        "B,T,C = 4,8,2 # batch, time, channels\n",
        "x = torch.randn(B,T,C)\n",
        "x.shape"
      ],
      "metadata": {
        "colab": {
          "base_uri": "https://localhost:8080/"
        },
        "id": "uitVebXsolXe",
        "outputId": "258188c1-ada4-4e77-daac-69e5725e7ab3"
      },
      "execution_count": null,
      "outputs": [
        {
          "output_type": "execute_result",
          "data": {
            "text/plain": [
              "torch.Size([4, 8, 2])"
            ]
          },
          "metadata": {},
          "execution_count": 19
        }
      ]
    },
    {
      "cell_type": "code",
      "source": [
        "#simple way of providing context of previous sequence to the current character.by calculating the mean of the prev charactes\n",
        "xbow = torch.zeros((B,T,C))\n",
        "for b in range(B):\n",
        "    for t in range(T):\n",
        "        xprev = x[b,:t+1] # (t,C)\n",
        "        xbow[b,t] = torch.mean(xprev, 0)"
      ],
      "metadata": {
        "id": "JIcNEactorgP"
      },
      "execution_count": null,
      "outputs": []
    },
    {
      "cell_type": "code",
      "source": [
        "#matrix multiplication for the weighted aggregation\n",
        "wei = torch.tril(torch.ones(T, T))\n",
        "wei = wei / wei.sum(1, keepdim=True)\n",
        "xbow2 = wei @ x # (B, T, T) @ (B, T, C) ----> (B, T, C)\n",
        "torch.allclose(xbow, xbow2)"
      ],
      "metadata": {
        "colab": {
          "base_uri": "https://localhost:8080/"
        },
        "id": "X3YGLLKiot3U",
        "outputId": "5485d04e-eb39-4d68-f929-3e4356d777e7"
      },
      "execution_count": null,
      "outputs": [
        {
          "output_type": "execute_result",
          "data": {
            "text/plain": [
              "False"
            ]
          },
          "metadata": {},
          "execution_count": 22
        }
      ]
    },
    {
      "cell_type": "code",
      "source": [
        "#  use Softmax\n",
        "tril = torch.tril(torch.ones(T, T))\n",
        "wei = torch.zeros((T,T))\n",
        "wei = wei.masked_fill(tril == 0, float('-inf'))\n",
        "wei = F.softmax(wei, dim=-1)\n",
        "xbow3 = wei @ x\n",
        "torch.allclose(xbow, xbow3)\n"
      ],
      "metadata": {
        "colab": {
          "base_uri": "https://localhost:8080/"
        },
        "id": "i49IapdgpLEx",
        "outputId": "63657840-1c05-459d-bc35-ff80978721ea"
      },
      "execution_count": null,
      "outputs": [
        {
          "output_type": "execute_result",
          "data": {
            "text/plain": [
              "False"
            ]
          },
          "metadata": {},
          "execution_count": 23
        }
      ]
    },
    {
      "cell_type": "code",
      "source": [
        "# v self-attention!\n",
        "torch.manual_seed(1337)\n",
        "B,T,C = 4,8,32\n",
        "x = torch.randn(B,T,C)\n",
        "\n",
        "# let's see a single Head perform self-attention\n",
        "head_size = 16\n",
        "key = nn.Linear(C, head_size, bias=False)\n",
        "query = nn.Linear(C, head_size, bias=False)\n",
        "value = nn.Linear(C, head_size, bias=False)\n",
        "k = key(x)   # (B, T, 16)\n",
        "q = query(x) # (B, T, 16)\n",
        "wei =  q @ k.transpose(-2, -1) # (B, T, 16) @ (B, 16, T) ---> (B, T, T)\n",
        "\n",
        "tril = torch.tril(torch.ones(T, T))\n",
        "#wei = torch.zeros((T,T))\n",
        "wei = wei.masked_fill(tril == 0, float('-inf'))\n",
        "wei = F.softmax(wei, dim=-1)\n",
        "\n",
        "v = value(x)\n",
        "out = wei @ v\n",
        "#out = wei @ x\n",
        "\n",
        "out.shape"
      ],
      "metadata": {
        "colab": {
          "base_uri": "https://localhost:8080/"
        },
        "id": "ptyffhH0pkjs",
        "outputId": "a1248eda-6574-41b5-fa70-f3d32f3370ec"
      },
      "execution_count": null,
      "outputs": [
        {
          "output_type": "execute_result",
          "data": {
            "text/plain": [
              "torch.Size([4, 8, 16])"
            ]
          },
          "metadata": {},
          "execution_count": 24
        }
      ]
    },
    {
      "cell_type": "code",
      "source": [
        "wei[0]"
      ],
      "metadata": {
        "colab": {
          "base_uri": "https://localhost:8080/"
        },
        "id": "H0x1z8d1ppui",
        "outputId": "5ee7ac51-c35c-403e-c19a-7ae5ea67d066"
      },
      "execution_count": null,
      "outputs": [
        {
          "output_type": "execute_result",
          "data": {
            "text/plain": [
              "tensor([[1.0000, 0.0000, 0.0000, 0.0000, 0.0000, 0.0000, 0.0000, 0.0000],\n",
              "        [0.1574, 0.8426, 0.0000, 0.0000, 0.0000, 0.0000, 0.0000, 0.0000],\n",
              "        [0.2088, 0.1646, 0.6266, 0.0000, 0.0000, 0.0000, 0.0000, 0.0000],\n",
              "        [0.5792, 0.1187, 0.1889, 0.1131, 0.0000, 0.0000, 0.0000, 0.0000],\n",
              "        [0.0294, 0.1052, 0.0469, 0.0276, 0.7909, 0.0000, 0.0000, 0.0000],\n",
              "        [0.0176, 0.2689, 0.0215, 0.0089, 0.6812, 0.0019, 0.0000, 0.0000],\n",
              "        [0.1691, 0.4066, 0.0438, 0.0416, 0.1048, 0.2012, 0.0329, 0.0000],\n",
              "        [0.0210, 0.0843, 0.0555, 0.2297, 0.0573, 0.0709, 0.2423, 0.2391]],\n",
              "       grad_fn=<SelectBackward0>)"
            ]
          },
          "metadata": {},
          "execution_count": 25
        }
      ]
    },
    {
      "cell_type": "markdown",
      "source": [
        "self attention implementation . it just communicates between the previous character and the current one to predict the next one. here we are just using matrix multiplication of v q and k vector .we do linear transformatin on it."
      ],
      "metadata": {
        "id": "r1wpmr7epttf"
      }
    },
    {
      "cell_type": "code",
      "source": [
        "import torch\n",
        "import torch.nn as nn\n",
        "from google.colab import drive\n",
        "from torch.nn import functional as F\n",
        "\n",
        "# hyperparameters\n",
        "batch_size = 16 # how many independent sequences will we process in parallel?\n",
        "block_size = 32 # what is the maximum context length for predictions?\n",
        "max_iters = 5000\n",
        "eval_interval = 100\n",
        "learning_rate = 1e-3\n",
        "device = 'cuda' if torch.cuda.is_available() else 'cpu'\n",
        "eval_iters = 200\n",
        "n_embd = 64\n",
        "n_head = 4\n",
        "n_layer = 4\n",
        "dropout = 0.0\n",
        "# ------------\n",
        "\n",
        "torch.manual_seed(1337)\n",
        "\n",
        "\n",
        "# Mount Google Drive\n",
        "drive.mount('/content/drive')\n",
        "#loading the da6ta from the google drive\n",
        "train_text_path = '/content/drive/MyDrive/Chat.txt'                        #! where the content folder is located and how is it accessible from here\n",
        "\n",
        "#opening the file and reading it\n",
        "\n",
        "with open(train_text_path,'r',encoding='utf-8') as f:\n",
        "  raw_text = f.read()\n",
        "\n",
        "\n",
        "# here are all the unique characters that occur in this text\n",
        "chars = sorted(list(set(text)))\n",
        "vocab_size = len(chars)\n",
        "# create a mapping from characters to integers\n",
        "stoi = { ch:i for i,ch in enumerate(chars) }\n",
        "itos = { i:ch for i,ch in enumerate(chars) }\n",
        "encode = lambda s: [stoi[c] for c in s] # encoder: take a string, output a list of integers\n",
        "decode = lambda l: ''.join([itos[i] for i in l]) # decoder: take a list of integers, output a string\n",
        "\n",
        "# Train and test splits\n",
        "data = torch.tensor(encode(text), dtype=torch.long)\n",
        "n = int(0.9*len(data)) # first 90% will be train, rest val\n",
        "train_data = data[:n]\n",
        "val_data = data[n:]\n",
        "\n",
        "# data loading\n",
        "def get_batch(split):\n",
        "    # generate a small batch of data of inputs x and targets y\n",
        "    data = train_data if split == 'train' else val_data\n",
        "    ix = torch.randint(len(data) - block_size, (batch_size,))\n",
        "    x = torch.stack([data[i:i+block_size] for i in ix])\n",
        "    y = torch.stack([data[i+1:i+block_size+1] for i in ix])\n",
        "    x, y = x.to(device), y.to(device)\n",
        "    return x, y\n",
        "\n",
        "@torch.no_grad()\n",
        "def estimate_loss():\n",
        "    out = {}\n",
        "    model.eval()\n",
        "    for split in ['train', 'val']:\n",
        "        losses = torch.zeros(eval_iters)\n",
        "        for k in range(eval_iters):\n",
        "            X, Y = get_batch(split)\n",
        "            logits, loss = model(X, Y)\n",
        "            losses[k] = loss.item()\n",
        "        out[split] = losses.mean()\n",
        "    model.train()\n",
        "    return out\n",
        "\n",
        "class Head(nn.Module):\n",
        "    \"\"\" one head of self-attention \"\"\"\n",
        "\n",
        "    def __init__(self, head_size):\n",
        "        super().__init__()\n",
        "        self.key = nn.Linear(n_embd, head_size, bias=False)\n",
        "        self.query = nn.Linear(n_embd, head_size, bias=False)\n",
        "        self.value = nn.Linear(n_embd, head_size, bias=False)\n",
        "        self.register_buffer('tril', torch.tril(torch.ones(block_size, block_size)))\n",
        "\n",
        "        self.dropout = nn.Dropout(dropout)\n",
        "\n",
        "    def forward(self, x):\n",
        "        B,T,C = x.shape\n",
        "        k = self.key(x)   # (B,T,C)\n",
        "        q = self.query(x) # (B,T,C)\n",
        "        # compute attention scores (\"affinities\")\n",
        "        wei = q @ k.transpose(-2,-1) * C**-0.5 # (B, T, C) @ (B, C, T) -> (B, T, T)\n",
        "        wei = wei.masked_fill(self.tril[:T, :T] == 0, float('-inf')) # (B, T, T)\n",
        "        wei = F.softmax(wei, dim=-1) # (B, T, T)\n",
        "        wei = self.dropout(wei)\n",
        "        # perform the weighted aggregation of the values\n",
        "        v = self.value(x) # (B,T,C)\n",
        "        out = wei @ v # (B, T, T) @ (B, T, C) -> (B, T, C)\n",
        "        return out\n",
        "\n",
        "class MultiHeadAttention(nn.Module):\n",
        "    \"\"\" multiple heads of self-attention in parallel \"\"\"\n",
        "\n",
        "    def __init__(self, num_heads, head_size):\n",
        "        super().__init__()\n",
        "        self.heads = nn.ModuleList([Head(head_size) for _ in range(num_heads)])\n",
        "        self.proj = nn.Linear(n_embd, n_embd)\n",
        "        self.dropout = nn.Dropout(dropout)\n",
        "\n",
        "    def forward(self, x):\n",
        "        out = torch.cat([h(x) for h in self.heads], dim=-1)\n",
        "        out = self.dropout(self.proj(out))\n",
        "        return out\n",
        "\n",
        "class FeedFoward(nn.Module):\n",
        "    \"\"\" a simple linear layer followed by a non-linearity \"\"\"\n",
        "\n",
        "    def __init__(self, n_embd):\n",
        "        super().__init__()\n",
        "        self.net = nn.Sequential(\n",
        "            nn.Linear(n_embd, 4 * n_embd),\n",
        "            nn.ReLU(),\n",
        "            nn.Linear(4 * n_embd, n_embd),\n",
        "            nn.Dropout(dropout),\n",
        "        )\n",
        "\n",
        "    def forward(self, x):\n",
        "        return self.net(x)\n",
        "\n",
        "class Block(nn.Module):\n",
        "    \"\"\" Transformer block: communication followed by computation \"\"\"\n",
        "\n",
        "    def __init__(self, n_embd, n_head):\n",
        "        # n_embd: embedding dimension, n_head: the number of heads we'd like\n",
        "        super().__init__()\n",
        "        head_size = n_embd // n_head\n",
        "        self.sa = MultiHeadAttention(n_head, head_size)\n",
        "        self.ffwd = FeedFoward(n_embd)\n",
        "        self.ln1 = nn.LayerNorm(n_embd)\n",
        "        self.ln2 = nn.LayerNorm(n_embd)\n",
        "\n",
        "    def forward(self, x):\n",
        "        x = x + self.sa(self.ln1(x))\n",
        "        x = x + self.ffwd(self.ln2(x))\n",
        "        return x\n",
        "\n",
        "# super simple bigram model\n",
        "class BigramLanguageModel(nn.Module):\n",
        "\n",
        "    def __init__(self):\n",
        "        super().__init__()\n",
        "        # each token directly reads off the logits for the next token from a lookup table\n",
        "        self.token_embedding_table = nn.Embedding(vocab_size, n_embd)\n",
        "        self.position_embedding_table = nn.Embedding(block_size, n_embd)\n",
        "        self.blocks = nn.Sequential(*[Block(n_embd, n_head=n_head) for _ in range(n_layer)])\n",
        "        self.ln_f = nn.LayerNorm(n_embd) # final layer norm\n",
        "        self.lm_head = nn.Linear(n_embd, vocab_size)\n",
        "\n",
        "    def forward(self, idx, targets=None):\n",
        "        B, T = idx.shape\n",
        "\n",
        "        # idx and targets are both (B,T) tensor of integers\n",
        "        tok_emb = self.token_embedding_table(idx) # (B,T,C)\n",
        "        pos_emb = self.position_embedding_table(torch.arange(T, device=device)) # (T,C)\n",
        "        x = tok_emb + pos_emb # (B,T,C)\n",
        "        x = self.blocks(x) # (B,T,C)\n",
        "        x = self.ln_f(x) # (B,T,C)\n",
        "        logits = self.lm_head(x) # (B,T,vocab_size)\n",
        "\n",
        "        if targets is None:\n",
        "            loss = None\n",
        "        else:\n",
        "            B, T, C = logits.shape\n",
        "            logits = logits.view(B*T, C)\n",
        "            targets = targets.view(B*T)\n",
        "            loss = F.cross_entropy(logits, targets)\n",
        "\n",
        "        return logits, loss\n",
        "\n",
        "    def generate(self, idx, max_new_tokens):\n",
        "        # idx is (B, T) array of indices in the current context\n",
        "        for _ in range(max_new_tokens):\n",
        "            # crop idx to the last block_size tokens\n",
        "            idx_cond = idx[:, -block_size:]\n",
        "            # get the predictions\n",
        "            logits, loss = self(idx_cond)\n",
        "            # focus only on the last time step\n",
        "            logits = logits[:, -1, :] # becomes (B, C)\n",
        "            # apply softmax to get probabilities\n",
        "            probs = F.softmax(logits, dim=-1) # (B, C)\n",
        "            # sample from the distribution\n",
        "            idx_next = torch.multinomial(probs, num_samples=1) # (B, 1)\n",
        "            # append sampled index to the running sequence\n",
        "            idx = torch.cat((idx, idx_next), dim=1) # (B, T+1)\n",
        "        return idx\n",
        "\n",
        "model = BigramLanguageModel()\n",
        "m = model.to(device)\n",
        "# print the number of parameters in the model\n",
        "print(sum(p.numel() for p in m.parameters())/1e6, 'M parameters')\n",
        "\n",
        "# create a PyTorch optimizer\n",
        "optimizer = torch.optim.AdamW(model.parameters(), lr=learning_rate)\n",
        "\n",
        "for iter in range(max_iters):\n",
        "\n",
        "    # every once in a while evaluate the loss on train and val sets\n",
        "    if iter % eval_interval == 0 or iter == max_iters - 1:\n",
        "        losses = estimate_loss()\n",
        "        print(f\"step {iter}: train loss {losses['train']:.4f}, val loss {losses['val']:.4f}\")\n",
        "\n",
        "    # sample a batch of data\n",
        "    xb, yb = get_batch('train')\n",
        "\n",
        "    # evaluate the loss\n",
        "    logits, loss = model(xb, yb)\n",
        "    optimizer.zero_grad(set_to_none=True)\n",
        "    loss.backward()\n",
        "    optimizer.step()\n",
        "\n",
        "# generate from the model\n",
        "context = torch.zeros((1, 1), dtype=torch.long, device=device)\n",
        "print(decode(m.generate(context, max_new_tokens=2000)[0].tolist()))"
      ],
      "metadata": {
        "colab": {
          "base_uri": "https://localhost:8080/"
        },
        "id": "yEciDpu4qwjg",
        "outputId": "2ad81508-c7bf-4b06-b425-f06b5b308480"
      },
      "execution_count": null,
      "outputs": [
        {
          "output_type": "stream",
          "name": "stdout",
          "text": [
            "Drive already mounted at /content/drive; to attempt to forcibly remount, call drive.mount(\"/content/drive\", force_remount=True).\n",
            "0.213341 M parameters\n",
            "step 0: train loss 4.6488, val loss 4.6532\n",
            "step 100: train loss 1.8131, val loss 1.9865\n",
            "step 200: train loss 1.4404, val loss 1.6169\n",
            "step 300: train loss 1.3178, val loss 1.5509\n",
            "step 400: train loss 1.2754, val loss 1.4875\n",
            "step 500: train loss 1.2249, val loss 1.3974\n",
            "step 600: train loss 1.1907, val loss 1.3489\n",
            "step 700: train loss 1.1561, val loss 1.3378\n",
            "step 800: train loss 1.1491, val loss 1.3538\n",
            "step 900: train loss 1.1091, val loss 1.3443\n",
            "step 1000: train loss 1.1214, val loss 1.2888\n",
            "step 1100: train loss 1.0743, val loss 1.2517\n",
            "step 1200: train loss 1.0585, val loss 1.2901\n",
            "step 1300: train loss 1.0278, val loss 1.2145\n",
            "step 1400: train loss 1.0125, val loss 1.2139\n",
            "step 1500: train loss 1.0191, val loss 1.1903\n",
            "step 1600: train loss 0.9945, val loss 1.1763\n",
            "step 1700: train loss 0.9735, val loss 1.1854\n",
            "step 1800: train loss 0.9837, val loss 1.2110\n",
            "step 1900: train loss 0.9818, val loss 1.1828\n",
            "step 2000: train loss 0.9701, val loss 1.1750\n",
            "step 2100: train loss 0.9464, val loss 1.1741\n",
            "step 2200: train loss 0.9540, val loss 1.1629\n",
            "step 2300: train loss 0.9390, val loss 1.2046\n",
            "step 2400: train loss 0.9238, val loss 1.1842\n",
            "step 2500: train loss 0.9203, val loss 1.1075\n",
            "step 2600: train loss 0.9375, val loss 1.1139\n",
            "step 2700: train loss 0.9021, val loss 1.1054\n",
            "step 2800: train loss 0.9025, val loss 1.1264\n",
            "step 2900: train loss 0.9025, val loss 1.1048\n",
            "step 3000: train loss 0.8879, val loss 1.0914\n",
            "step 3100: train loss 0.8971, val loss 1.1186\n",
            "step 3200: train loss 0.8761, val loss 1.0933\n",
            "step 3300: train loss 0.8736, val loss 1.0602\n",
            "step 3400: train loss 0.8708, val loss 1.1010\n",
            "step 3500: train loss 0.8650, val loss 1.1000\n",
            "step 3600: train loss 0.8483, val loss 1.1478\n",
            "step 3700: train loss 0.8882, val loss 1.0974\n",
            "step 3800: train loss 0.8480, val loss 1.1352\n",
            "step 3900: train loss 0.8473, val loss 1.0875\n",
            "step 4000: train loss 0.8537, val loss 1.1096\n",
            "step 4100: train loss 0.8564, val loss 1.0645\n",
            "step 4200: train loss 0.8471, val loss 1.0590\n",
            "step 4300: train loss 0.8270, val loss 1.0716\n",
            "step 4400: train loss 0.8296, val loss 1.0767\n",
            "step 4500: train loss 0.8251, val loss 1.0825\n",
            "step 4600: train loss 0.8400, val loss 1.0926\n",
            "step 4700: train loss 0.8258, val loss 1.0716\n",
            "step 4800: train loss 0.8088, val loss 1.0722\n",
            "step 4900: train loss 0.8216, val loss 1.0882\n",
            "step 4999: train loss 0.8287, val loss 1.0353\n",
            "\n",
            "Kribakarani CSE: sech \n",
            "Kribakarani CSE:  \n",
            "Kribakarani CSE:  \n",
            "Varshini: Ho ok \n",
            "Kribakarani CSE: <Media omitted> \n",
            "Varshini: ila \n",
            "Varshini: Monday firstay, and acd bpecroduction kanedaving \n",
            "Kribakarani CSE: <Media omitted> \n",
            "Kribakarani CSE: https://wwgrapomittayala \n",
            "Varshini: Solu \n",
            "Kribakarani CSE: Para ini erukean \n",
            "Kribakarani CSE: aavu nanthukureanyam assignment ina eppavea morn \n",
            "Kribakarani CSE: Call peruarama \n",
            "Varshini: 10 kipana \n",
            "Varshini: Adhu mamatum <This lab \n",
            "Varshini: poniya \n",
            "Kribakarani CSE: Encoir)d-ly \n",
            "Varshini: Ho ello \n",
            "Kribakarani CSE: Dongullithu \n",
            "Varshini: Mincang \n",
            "Kribakarani CSE: Of ru di \n",
            "Varshini: ok d \n",
            "Varshini: I will ah \n",
            "Varshini: Hallve vandhura \n",
            "Varshini: Cuarcon \n",
            "Kribakarani CSE: nallikum \n",
            "Kribakarani CSE: Groctation ax mentripure \n",
            "Varshini: Tomorrow \n",
            "Kribakarani CSE: Pay pottunttaya \n",
            "Varshini: nu sir viticket paniya \n",
            "Varshini: Doblivanga \n",
            "Kribakarani CSE: Nabea mroo52 karamba ava kutta ku edhayathu d \n",
            "Rusch pdf \n",
            "Kribakarani CSE: herystation ist to 602 \n",
            "80204 \n",
            "Varshini: Jodina mam kudala  \n",
            "Varshini: Jod \n",
            "Kribakarani CSE: Unakum teriyathu \n",
            "Varshini: Uth peryoom fat mambe \n",
            "Varshini: Romba \n",
            "Varshini: eppa ah \n",
            "Varshini: Ha write pananum atharkathutartanga \n",
            "Varshini: No \n",
            "Kribakarani CSE:  \n",
            "Kribakarani CSE: 2m front theriyam d Ferripachi ams \n",
            "Kribakarani CSE: Pandra \n",
            "Varshini: Type question thant fullack la marss \n",
            "Varshini: Unirgning \n",
            "Varshini: Aprm one therila avlo \n",
            "Varshini: 116 \n",
            "Kriakarani CSE: htmlI \n",
            "Varshini: Ok \n",
            "Kribakarani CSE: Varshini \n",
            "Kribakarani CSE: \n",
            "Varshini: Cort la atterion diayathuthanalam topiya \n",
            "Kribakarani CSE: <Media omitted> \n",
            "Kribakarani CSE:  \n",
            "Varshini: jolye \n",
            "Kribakarani CSE: Pndrorowordom exprocedobn in dezh(3 \n",
            "\n",
            "\n",
            "\n",
            "\n",
            "\n",
            "Kribakarani CSE: <Media oa omitted> \n",
            "Varshini: Icoorru diagraiyala erukuma \n",
            "Kribakarani CSE: Missed voice call \n",
            "Varshini: Ok \n",
            "Kribakarani CSE: 10 adic na \n",
            "Kribakarani CSE: Pannipadiya \n",
            "Kribakarani CSE: Illa \n",
            "Kribakarani CSE: <Media omitted> \n",
            "Kribakarani CSE: Mm mork lean \n",
            "Kribakarani CSE: Nammaila \n",
            "Varshini: Nexn\n"
          ]
        }
      ]
    },
    {
      "cell_type": "markdown",
      "source": [
        "It is an character level decoder only trasformer.predictes the next charcter in this sequence.\n",
        "It successfully trained mimics the conversation between two individuals.\n",
        "it implements positional encoding,multihead self attention ,add and norm and feed forward sections in transformer to achive it.\n",
        "\n",
        "framework:pytorch"
      ],
      "metadata": {
        "id": "iyt6Zshhrkj-"
      }
    }
  ]
}